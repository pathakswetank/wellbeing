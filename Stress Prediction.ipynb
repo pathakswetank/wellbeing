{
 "cells": [
  {
   "cell_type": "code",
   "execution_count": 38,
   "id": "676c4084",
   "metadata": {},
   "outputs": [],
   "source": [
    "import numpy as np\n",
    "import pandas as pd\n",
    "import seaborn as sns\n",
    "import matplotlib.pyplot as plt\n",
    "%matplotlib inline\n",
    "import warnings\n",
    "warnings.filterwarnings(\"ignore\")"
   ]
  },
  {
   "cell_type": "code",
   "execution_count": 2,
   "id": "33002ce6",
   "metadata": {},
   "outputs": [],
   "source": [
    "df = pd.read_csv(\"Stress Prediction.csv\")"
   ]
  },
  {
   "cell_type": "code",
   "execution_count": 3,
   "id": "b0df1d71",
   "metadata": {},
   "outputs": [
    {
     "data": {
      "text/html": [
       "<div>\n",
       "<style scoped>\n",
       "    .dataframe tbody tr th:only-of-type {\n",
       "        vertical-align: middle;\n",
       "    }\n",
       "\n",
       "    .dataframe tbody tr th {\n",
       "        vertical-align: top;\n",
       "    }\n",
       "\n",
       "    .dataframe thead th {\n",
       "        text-align: right;\n",
       "    }\n",
       "</style>\n",
       "<table border=\"1\" class=\"dataframe\">\n",
       "  <thead>\n",
       "    <tr style=\"text-align: right;\">\n",
       "      <th></th>\n",
       "      <th>Mental_Toughness</th>\n",
       "      <th>Self_Confidence</th>\n",
       "      <th>Motivation</th>\n",
       "      <th>Attention</th>\n",
       "      <th>Anxiety</th>\n",
       "      <th>Stress</th>\n",
       "      <th>Well_Being</th>\n",
       "    </tr>\n",
       "  </thead>\n",
       "  <tbody>\n",
       "    <tr>\n",
       "      <th>0</th>\n",
       "      <td>4</td>\n",
       "      <td>3</td>\n",
       "      <td>3</td>\n",
       "      <td>4</td>\n",
       "      <td>3</td>\n",
       "      <td>4</td>\n",
       "      <td>3.5</td>\n",
       "    </tr>\n",
       "    <tr>\n",
       "      <th>1</th>\n",
       "      <td>3</td>\n",
       "      <td>2</td>\n",
       "      <td>4</td>\n",
       "      <td>3</td>\n",
       "      <td>3</td>\n",
       "      <td>3</td>\n",
       "      <td>3.0</td>\n",
       "    </tr>\n",
       "    <tr>\n",
       "      <th>2</th>\n",
       "      <td>5</td>\n",
       "      <td>4</td>\n",
       "      <td>4</td>\n",
       "      <td>3</td>\n",
       "      <td>2</td>\n",
       "      <td>2</td>\n",
       "      <td>3.5</td>\n",
       "    </tr>\n",
       "    <tr>\n",
       "      <th>3</th>\n",
       "      <td>4</td>\n",
       "      <td>4</td>\n",
       "      <td>3</td>\n",
       "      <td>3</td>\n",
       "      <td>2</td>\n",
       "      <td>2</td>\n",
       "      <td>3.0</td>\n",
       "    </tr>\n",
       "    <tr>\n",
       "      <th>4</th>\n",
       "      <td>2</td>\n",
       "      <td>2</td>\n",
       "      <td>3</td>\n",
       "      <td>2</td>\n",
       "      <td>4</td>\n",
       "      <td>4</td>\n",
       "      <td>2.5</td>\n",
       "    </tr>\n",
       "    <tr>\n",
       "      <th>...</th>\n",
       "      <td>...</td>\n",
       "      <td>...</td>\n",
       "      <td>...</td>\n",
       "      <td>...</td>\n",
       "      <td>...</td>\n",
       "      <td>...</td>\n",
       "      <td>...</td>\n",
       "    </tr>\n",
       "    <tr>\n",
       "      <th>95</th>\n",
       "      <td>3</td>\n",
       "      <td>4</td>\n",
       "      <td>4</td>\n",
       "      <td>2</td>\n",
       "      <td>3</td>\n",
       "      <td>3</td>\n",
       "      <td>3.0</td>\n",
       "    </tr>\n",
       "    <tr>\n",
       "      <th>96</th>\n",
       "      <td>3</td>\n",
       "      <td>4</td>\n",
       "      <td>2</td>\n",
       "      <td>2</td>\n",
       "      <td>4</td>\n",
       "      <td>3</td>\n",
       "      <td>3.0</td>\n",
       "    </tr>\n",
       "    <tr>\n",
       "      <th>97</th>\n",
       "      <td>4</td>\n",
       "      <td>3</td>\n",
       "      <td>2</td>\n",
       "      <td>4</td>\n",
       "      <td>3</td>\n",
       "      <td>3</td>\n",
       "      <td>3.0</td>\n",
       "    </tr>\n",
       "    <tr>\n",
       "      <th>98</th>\n",
       "      <td>3</td>\n",
       "      <td>4</td>\n",
       "      <td>3</td>\n",
       "      <td>3</td>\n",
       "      <td>2</td>\n",
       "      <td>1</td>\n",
       "      <td>3.0</td>\n",
       "    </tr>\n",
       "    <tr>\n",
       "      <th>99</th>\n",
       "      <td>4</td>\n",
       "      <td>4</td>\n",
       "      <td>3</td>\n",
       "      <td>2</td>\n",
       "      <td>4</td>\n",
       "      <td>3</td>\n",
       "      <td>3.5</td>\n",
       "    </tr>\n",
       "  </tbody>\n",
       "</table>\n",
       "<p>100 rows × 7 columns</p>\n",
       "</div>"
      ],
      "text/plain": [
       "    Mental_Toughness  Self_Confidence  Motivation  Attention  Anxiety  Stress  \\\n",
       "0                  4                3           3          4        3       4   \n",
       "1                  3                2           4          3        3       3   \n",
       "2                  5                4           4          3        2       2   \n",
       "3                  4                4           3          3        2       2   \n",
       "4                  2                2           3          2        4       4   \n",
       "..               ...              ...         ...        ...      ...     ...   \n",
       "95                 3                4           4          2        3       3   \n",
       "96                 3                4           2          2        4       3   \n",
       "97                 4                3           2          4        3       3   \n",
       "98                 3                4           3          3        2       1   \n",
       "99                 4                4           3          2        4       3   \n",
       "\n",
       "    Well_Being  \n",
       "0          3.5  \n",
       "1          3.0  \n",
       "2          3.5  \n",
       "3          3.0  \n",
       "4          2.5  \n",
       "..         ...  \n",
       "95         3.0  \n",
       "96         3.0  \n",
       "97         3.0  \n",
       "98         3.0  \n",
       "99         3.5  \n",
       "\n",
       "[100 rows x 7 columns]"
      ]
     },
     "execution_count": 3,
     "metadata": {},
     "output_type": "execute_result"
    }
   ],
   "source": [
    "df"
   ]
  },
  {
   "cell_type": "code",
   "execution_count": 4,
   "id": "2c7997bd",
   "metadata": {},
   "outputs": [
    {
     "data": {
      "text/plain": [
       "Mental_Toughness    0\n",
       "Self_Confidence     0\n",
       "Motivation          0\n",
       "Attention           0\n",
       "Anxiety             0\n",
       "Stress              0\n",
       "Well_Being          0\n",
       "dtype: int64"
      ]
     },
     "execution_count": 4,
     "metadata": {},
     "output_type": "execute_result"
    }
   ],
   "source": [
    "df.isnull().sum()"
   ]
  },
  {
   "cell_type": "code",
   "execution_count": 8,
   "id": "11f7ae25",
   "metadata": {},
   "outputs": [
    {
     "data": {
      "text/plain": [
       "0     3.5\n",
       "1     3.0\n",
       "2     3.5\n",
       "3     3.0\n",
       "4     2.5\n",
       "     ... \n",
       "95    3.0\n",
       "96    3.0\n",
       "97    3.0\n",
       "98    3.0\n",
       "99    3.5\n",
       "Name: Well_Being, Length: 100, dtype: float64"
      ]
     },
     "execution_count": 8,
     "metadata": {},
     "output_type": "execute_result"
    }
   ],
   "source": [
    "df.Well_Being"
   ]
  },
  {
   "cell_type": "code",
   "execution_count": 10,
   "id": "e208d3c3",
   "metadata": {},
   "outputs": [],
   "source": [
    "X = df.drop(columns = [\"Well_Being\"])"
   ]
  },
  {
   "cell_type": "code",
   "execution_count": 11,
   "id": "3663e6fb",
   "metadata": {},
   "outputs": [],
   "source": [
    "y = df.Well_Being"
   ]
  },
  {
   "cell_type": "code",
   "execution_count": 12,
   "id": "1b2eb29c",
   "metadata": {},
   "outputs": [],
   "source": [
    "from sklearn.model_selection import train_test_split\n",
    "\n",
    "X_train, X_test, y_train, y_test = train_test_split(X, y, test_size=0.33, random_state=42)"
   ]
  },
  {
   "cell_type": "code",
   "execution_count": 59,
   "id": "58899ae3",
   "metadata": {},
   "outputs": [
    {
     "data": {
      "text/plain": [
       "RandomForestRegressor(random_state=0)"
      ]
     },
     "execution_count": 59,
     "metadata": {},
     "output_type": "execute_result"
    }
   ],
   "source": [
    "from sklearn.ensemble import RandomForestRegressor\n",
    "  \n",
    " # create regressor object\n",
    "regressor = RandomForestRegressor(n_estimators = 100, random_state = 0)\n",
    "  \n",
    "# fit the regressor with x and y data\n",
    "regressor.fit(X_train,y_train)  "
   ]
  },
  {
   "cell_type": "code",
   "execution_count": 56,
   "id": "bf599c3a",
   "metadata": {},
   "outputs": [
    {
     "data": {
      "text/plain": [
       "0.9631151041666667"
      ]
     },
     "execution_count": 56,
     "metadata": {},
     "output_type": "execute_result"
    }
   ],
   "source": [
    "regressor.score(X_train,y_train)"
   ]
  },
  {
   "cell_type": "code",
   "execution_count": 57,
   "id": "8f1047b3",
   "metadata": {},
   "outputs": [
    {
     "data": {
      "text/plain": [
       "RandomForestRegressor(random_state=0)"
      ]
     },
     "execution_count": 57,
     "metadata": {},
     "output_type": "execute_result"
    }
   ],
   "source": [
    "regressor.fit(X_test,y_test) "
   ]
  },
  {
   "cell_type": "code",
   "execution_count": 58,
   "id": "2b5532a1",
   "metadata": {},
   "outputs": [
    {
     "data": {
      "text/plain": [
       "0.8869205804749339"
      ]
     },
     "execution_count": 58,
     "metadata": {},
     "output_type": "execute_result"
    }
   ],
   "source": [
    "regressor.score(X_test,y_test) "
   ]
  },
  {
   "cell_type": "code",
   "execution_count": 60,
   "id": "ff309db2",
   "metadata": {},
   "outputs": [],
   "source": [
    "model = regressor.fit(X_train,y_train)"
   ]
  },
  {
   "cell_type": "code",
   "execution_count": 61,
   "id": "0cfaacaa",
   "metadata": {},
   "outputs": [
    {
     "data": {
      "text/plain": [
       "0.9631151041666667"
      ]
     },
     "execution_count": 61,
     "metadata": {},
     "output_type": "execute_result"
    }
   ],
   "source": [
    "model.score(X_train,y_train)"
   ]
  },
  {
   "cell_type": "code",
   "execution_count": 62,
   "id": "3686c520",
   "metadata": {},
   "outputs": [],
   "source": [
    "test_model = regressor.fit(X_test,y_test)"
   ]
  },
  {
   "cell_type": "code",
   "execution_count": 63,
   "id": "7bcf0278",
   "metadata": {},
   "outputs": [
    {
     "data": {
      "text/plain": [
       "0.8869205804749339"
      ]
     },
     "execution_count": 63,
     "metadata": {},
     "output_type": "execute_result"
    }
   ],
   "source": [
    "model.score(X_test,y_test)"
   ]
  },
  {
   "cell_type": "code",
   "execution_count": 20,
   "id": "51457e54",
   "metadata": {},
   "outputs": [
    {
     "data": {
      "text/plain": [
       "Index(['Mental_Toughness', 'Self_Confidence', 'Motivation', 'Attention',\n",
       "       'Anxiety', 'Stress', 'Well_Being'],\n",
       "      dtype='object')"
      ]
     },
     "execution_count": 20,
     "metadata": {},
     "output_type": "execute_result"
    }
   ],
   "source": [
    "df.columns"
   ]
  },
  {
   "cell_type": "code",
   "execution_count": 64,
   "id": "7a08f401",
   "metadata": {},
   "outputs": [],
   "source": [
    "def predict_stress(Mental_Toughness, Self_Confidence, Motivation, Attention, Anxiety, Stress):\n",
    "    a = np.zeros(len(X.columns))\n",
    "    \n",
    "    a[0] = Mental_Toughness\n",
    "    a[1] = Self_Confidence\n",
    "    a[2] = Motivation\n",
    "    a[3] = Attention\n",
    "    a[4] = Anxiety\n",
    "    a[5] = Stress\n",
    "    \n",
    "    return (model.predict([a]))\n",
    "    "
   ]
  },
  {
   "cell_type": "code",
   "execution_count": 66,
   "id": "af98b957",
   "metadata": {},
   "outputs": [
    {
     "data": {
      "text/plain": [
       "array([0.33884777, 0.1865741 , 0.14474151, 0.05666118, 0.1546132 ,\n",
       "       0.11856224])"
      ]
     },
     "execution_count": 66,
     "metadata": {},
     "output_type": "execute_result"
    }
   ],
   "source": [
    "model.feature_importances_"
   ]
  },
  {
   "cell_type": "code",
   "execution_count": 68,
   "id": "08d6bf68",
   "metadata": {},
   "outputs": [
    {
     "data": {
      "text/plain": [
       "array([3.39])"
      ]
     },
     "execution_count": 68,
     "metadata": {},
     "output_type": "execute_result"
    }
   ],
   "source": [
    "predict_stress(5,4,5,3,2,3)"
   ]
  },
  {
   "cell_type": "code",
   "execution_count": 69,
   "id": "d68bb0f3",
   "metadata": {},
   "outputs": [],
   "source": [
    "import pickle \n",
    "pickle_out = open(\"psychology.pkl\", mode = \"wb\") \n",
    "pickle.dump(model, pickle_out) \n",
    "pickle_out.close()"
   ]
  },
  {
   "cell_type": "code",
   "execution_count": 70,
   "id": "dbbba12e",
   "metadata": {},
   "outputs": [
    {
     "name": "stdout",
     "output_type": "stream",
     "text": [
      "Overwriting app.py\n"
     ]
    }
   ],
   "source": [
    "%%writefile app.py\n",
    "\n",
    "import warnings\n",
    "warnings.filterwarnings(\"ignore\")\n",
    "import pickle\n",
    "import streamlit as st\n",
    " \n",
    "# loading the trained model\n",
    "pickle_in = open('psychology.pkl', 'rb') \n",
    "regress = pickle.load(pickle_in)\n",
    " \n",
    "@st.cache()\n",
    "  \n",
    "# defining the function which will make the prediction using the data which the user inputs \n",
    "def prediction(Mental_Toughness, Self_Confidence, Motivation, Attention, Anxiety, Stress):   \n",
    " \n",
    "    # Pre-processing user input    \n",
    "    if Mental_Toughness == \"Very Good\":\n",
    "        Mental_Toughness = 5\n",
    "    elif Mental_Toughness == \"Good\":\n",
    "        Mental_Toughness = 4\n",
    "    elif Mental_Toughness == \"Average\":\n",
    "        Mental_Toughness = 3\n",
    "    elif Mental_Toughness == \"Fair\":\n",
    "        Mental_Toughness = 2\n",
    "    elif Mental_Toughness == \"Poor\":\n",
    "        Mental_Toughness = 1\n",
    "        \n",
    "    if Self_Confidence == \"Very Good\":\n",
    "        Self_Confidence = 5\n",
    "    elif Self_Confidence == \"Good\":\n",
    "        Self_Confidence = 4\n",
    "    elif Self_Confidence == \"Average\":\n",
    "        Self_Confidence = 3\n",
    "    elif Self_Confidence == \"Fair\":\n",
    "        Self_Confidence = 2\n",
    "    elif Self_Confidence == \"Poor\":\n",
    "        Self_Confidence = 1\n",
    "        \n",
    "    if Motivation == \"Very Good\":\n",
    "        Motivation = 5\n",
    "    elif Motivation == \"Good\":\n",
    "        Motivation = 4\n",
    "    elif Motivation == \"Average\":\n",
    "        Motivation = 3\n",
    "    elif Motivation == \"Fair\":\n",
    "        Motivation = 2\n",
    "    elif Motivation == \"Poor\":\n",
    "        Motivation = 1\n",
    "\n",
    "    if Attention == \"Very Good\":\n",
    "        Attention = 5\n",
    "    elif Attention == \"Good\":\n",
    "        Attention = 4\n",
    "    elif Attention == \"Average\":\n",
    "        Attention = 3\n",
    "    elif Attention == \"Fair\":\n",
    "        Attention = 2\n",
    "    elif Attention == \"Poor\":\n",
    "        Attention = 1\n",
    "\n",
    "    if Anxiety == \"Very Low\":\n",
    "        Anxiety = 1\n",
    "    elif Anxiety == \"Low\":\n",
    "        Anxiety = 2\n",
    "    elif Anxiety == \"Average\":\n",
    "        Anxiety = 3\n",
    "    elif Anxiety == \"Above Average\":\n",
    "        Anxiety = 4\n",
    "    elif Anxiety == \"High\":\n",
    "        Anxiety = 5\n",
    "\n",
    "    if Stress == \"Very Low\":\n",
    "        Stress = 1\n",
    "    elif Stress == \"Low\":\n",
    "        Stress = 2\n",
    "    elif Stress == \"Average\":\n",
    "        Stress = 3\n",
    "    elif Stress == \"Above Average\":\n",
    "        Stress = 4\n",
    "    elif Stress == \"High\":\n",
    "        Stress = 5\n",
    "\n",
    "    # Making predictions \n",
    "    prediction = regress.predict( \n",
    "        [[Mental_Toughness, Self_Confidence, Motivation, Attention, Anxiety, Stress]])\n",
    "     \n",
    "    \n",
    "    return prediction\n",
    "      \n",
    "  \n",
    "# this is the main function in which we define our webpage  \n",
    "def main():       \n",
    "    # front end elements of the web page \n",
    "    html_temp = \"\"\" \n",
    "    <div style =\"background-color:#4080bf;padding:13px\">   \n",
    "    <h1 style =\"color:white;text-align:center;\">CENTRE FOR SPORTS SCIENCE </h1>\n",
    "    <h2 style =\"color:white;text-align:center;\">Psychological Well Being Assessment </h2> \n",
    "    </div>  \n",
    "    \"\"\"\n",
    "      \n",
    "    # display the front end aspect\n",
    "    st.markdown(html_temp, unsafe_allow_html = True) \n",
    "      \n",
    "    # following lines create boxes in which user can enter data required to make prediction \n",
    "    Mental_Toughness = st.selectbox('Mental_Toughness',(\"Very Good\",\"Good\", \"Average\", \"Fair\", \"Poor\"))\n",
    "    Self_Confidence = st.selectbox('Self_Confidence',(\"Very Good\",\"Good\", \"Average\", \"Fair\", \"Poor\")) \n",
    "    Motivation = st.selectbox('Motivation',(\"Very Good\",\"Good\", \"Average\", \"Fair\", \"Poor\"))\n",
    "    Attention = st.selectbox('Attention',(\"Very Good\",\"Good\", \"Average\", \"Fair\", \"Poor\"))\n",
    "    Anxiety = st.selectbox('Anxiety',(\"Very Low\",\"Low\", \"Average\", \"Above Average\", \"High\"))\n",
    "    Stress = st.selectbox('Stress',(\"Very Low\",\"Low\", \"Average\", \"Above Average\", \"High\")) \n",
    "    \n",
    "    result =\"\"\n",
    "      \n",
    "    # when 'Predict' is clicked, make the prediction and store it \n",
    "    if st.button(\"Predict\"): \n",
    "        result = prediction(Mental_Toughness, Self_Confidence, Motivation, Attention, Anxiety, Stress) \n",
    "        st.success('Your Well Being is {}'.format((result/5)*100))\n",
    "        \n",
    "     \n",
    "if __name__=='__main__': \n",
    "    main()"
   ]
  },
  {
   "cell_type": "code",
   "execution_count": 48,
   "id": "6225d8cf",
   "metadata": {},
   "outputs": [
    {
     "ename": "SyntaxError",
     "evalue": "invalid syntax (Temp/ipykernel_9252/1113310893.py, line 1)",
     "output_type": "error",
     "traceback": [
      "\u001b[1;36m  File \u001b[1;32m\"C:\\Users\\LENOVO\\AppData\\Local\\Temp/ipykernel_9252/1113310893.py\"\u001b[1;36m, line \u001b[1;32m1\u001b[0m\n\u001b[1;33m    streamlit run app.py &>/dev/null&\u001b[0m\n\u001b[1;37m                ^\u001b[0m\n\u001b[1;31mSyntaxError\u001b[0m\u001b[1;31m:\u001b[0m invalid syntax\n"
     ]
    }
   ],
   "source": []
  },
  {
   "cell_type": "code",
   "execution_count": null,
   "id": "8759b17a",
   "metadata": {},
   "outputs": [],
   "source": []
  }
 ],
 "metadata": {
  "kernelspec": {
   "display_name": "Python 3 (ipykernel)",
   "language": "python",
   "name": "python3"
  },
  "language_info": {
   "codemirror_mode": {
    "name": "ipython",
    "version": 3
   },
   "file_extension": ".py",
   "mimetype": "text/x-python",
   "name": "python",
   "nbconvert_exporter": "python",
   "pygments_lexer": "ipython3",
   "version": "3.7.9"
  }
 },
 "nbformat": 4,
 "nbformat_minor": 5
}
